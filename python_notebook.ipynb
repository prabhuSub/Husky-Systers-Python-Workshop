{
 "cells": [
  {
   "cell_type": "markdown",
   "metadata": {},
   "source": [
    "## Index\n",
    "1. How to run a Python code\n",
    "2. Variables\n",
    "3. Data types\n",
    "    - Strings\n",
    "    - Lists\n",
    "    - Booleans\n",
    "    - Dictionaries\n",
    "    - Tuples\n",
    "    - Sets\n",
    "4. For Loops\n",
    "5. Functions\n",
    "6. Parameters and Arguments\n",
    "7. Docstrings\n",
    "8. Clean Code\n",
    "9. Object Oriented Programming – OOPs\n",
    "10. Lambda Expressions\n",
    "11. Errors Handling in Python\n"
   ]
  },
  {
   "cell_type": "markdown",
   "metadata": {
    "slideshow": {
     "slide_type": "slide"
    }
   },
   "source": [
    "## How to run a Python code\n",
    "\n",
    "Multiple ways to run a code based on my experience:\n",
    "Using tools like:\n",
    "\n",
    "1. Notebooks - Jupyter Notebook, JupyterLab\n",
    "2. IDE - Visual Studio Code, PyCharm, Spyder, etc\n",
    "3. Terminal"
   ]
  },
  {
   "cell_type": "markdown",
   "metadata": {},
   "source": [
    "## Variables"
   ]
  },
  {
   "cell_type": "code",
   "execution_count": 1,
   "metadata": {},
   "outputs": [],
   "source": [
    "user_name = 'Prabhu Subramanian'\n",
    "age = 25\n",
    "PI_CONSTANT = 3.14\n",
    "_variable_ = 'Test'"
   ]
  },
  {
   "cell_type": "code",
   "execution_count": 2,
   "metadata": {},
   "outputs": [],
   "source": [
    "__not_used__ = 'DO NOT USE SUCH VARIABLES'"
   ]
  },
  {
   "cell_type": "markdown",
   "metadata": {},
   "source": [
    "## Data Types"
   ]
  },
  {
   "cell_type": "markdown",
   "metadata": {},
   "source": [
    "### String"
   ]
  },
  {
   "cell_type": "code",
   "execution_count": 3,
   "metadata": {},
   "outputs": [
    {
     "name": "stdout",
     "output_type": "stream",
     "text": [
      "<class 'str'>\n"
     ]
    }
   ],
   "source": [
    "# Strings\n",
    "first_name = 'Prabhu'\n",
    "second_name = 'Subramanian'\n",
    "\n",
    "# lets concatinate two strings\n",
    "print(type(first_name + second_name))"
   ]
  },
  {
   "cell_type": "markdown",
   "metadata": {},
   "source": [
    "### List"
   ]
  },
  {
   "cell_type": "code",
   "execution_count": 4,
   "metadata": {},
   "outputs": [
    {
     "name": "stdout",
     "output_type": "stream",
     "text": [
      "['The Equilizer', 'Ipman']\n",
      "<class 'list'>\n"
     ]
    }
   ],
   "source": [
    "# List\n",
    "movie_list = list() # initiate a list object\n",
    "movie_list.append('The Equilizer') # appending first element to it\n",
    "movie_list.append('Ipman') # append second element to it\n",
    "print(movie_list)\n",
    "print(type(movie_list))"
   ]
  },
  {
   "cell_type": "markdown",
   "metadata": {},
   "source": [
    "### Boolean"
   ]
  },
  {
   "cell_type": "code",
   "execution_count": 5,
   "metadata": {},
   "outputs": [
    {
     "name": "stdout",
     "output_type": "stream",
     "text": [
      "True\n",
      "<class 'bool'>\n",
      "It is validated\n"
     ]
    }
   ],
   "source": [
    "# Boolean\n",
    "validate = bool() # by default the boolean object will initate as False\n",
    "validate = True\n",
    "print(validate)\n",
    "print(type(validate))\n",
    "\n",
    "# lets use it for if condition to see if we can get inside the condition\n",
    "if validate: \n",
    "    print(\"It is validated\")"
   ]
  },
  {
   "cell_type": "markdown",
   "metadata": {},
   "source": [
    "### Dictionaries"
   ]
  },
  {
   "cell_type": "code",
   "execution_count": 6,
   "metadata": {},
   "outputs": [
    {
     "name": "stdout",
     "output_type": "stream",
     "text": [
      "{'key1': 'value1', 'key2': 'value2'}\n",
      "<class 'dict'>\n"
     ]
    }
   ],
   "source": [
    "# Dictionaries\n",
    "dict_variable = dict()\n",
    "# disctionaries are key-value pair\n",
    "dict_variable['key1'] = 'value1'\n",
    "dict_variable['key2'] = 'value2'\n",
    "print(dict_variable)\n",
    "print(type(dict_variable))"
   ]
  },
  {
   "cell_type": "markdown",
   "metadata": {},
   "source": [
    "### Tuples"
   ]
  },
  {
   "cell_type": "code",
   "execution_count": 7,
   "metadata": {},
   "outputs": [
    {
     "name": "stdout",
     "output_type": "stream",
     "text": [
      "('Prabhu', 'Subramanian', 27)\n",
      "<class 'tuple'>\n",
      "First Name: Prabhu\n",
      "Second Name: Subramanian\n"
     ]
    },
    {
     "ename": "TypeError",
     "evalue": "can only concatenate str (not \"int\") to str",
     "output_type": "error",
     "traceback": [
      "\u001b[0;31m---------------------------------------------------------------------------\u001b[0m",
      "\u001b[0;31mTypeError\u001b[0m                                 Traceback (most recent call last)",
      "\u001b[0;32m<ipython-input-7-c588ea9120a3>\u001b[0m in \u001b[0;36m<module>\u001b[0;34m\u001b[0m\n\u001b[1;32m      7\u001b[0m \u001b[0mprint\u001b[0m\u001b[0;34m(\u001b[0m\u001b[0;34m'First Name: '\u001b[0m \u001b[0;34m+\u001b[0m \u001b[0mtuple_variable\u001b[0m\u001b[0;34m[\u001b[0m\u001b[0;36m0\u001b[0m\u001b[0;34m]\u001b[0m\u001b[0;34m)\u001b[0m\u001b[0;34m\u001b[0m\u001b[0;34m\u001b[0m\u001b[0m\n\u001b[1;32m      8\u001b[0m \u001b[0mprint\u001b[0m\u001b[0;34m(\u001b[0m\u001b[0;34m'Second Name: '\u001b[0m \u001b[0;34m+\u001b[0m \u001b[0mtuple_variable\u001b[0m\u001b[0;34m[\u001b[0m\u001b[0;36m1\u001b[0m\u001b[0;34m]\u001b[0m\u001b[0;34m)\u001b[0m\u001b[0;34m\u001b[0m\u001b[0;34m\u001b[0m\u001b[0m\n\u001b[0;32m----> 9\u001b[0;31m \u001b[0mprint\u001b[0m\u001b[0;34m(\u001b[0m\u001b[0;34m'Age: '\u001b[0m \u001b[0;34m+\u001b[0m \u001b[0mtuple_variable\u001b[0m\u001b[0;34m[\u001b[0m\u001b[0;36m2\u001b[0m\u001b[0;34m]\u001b[0m\u001b[0;34m)\u001b[0m\u001b[0;34m\u001b[0m\u001b[0;34m\u001b[0m\u001b[0m\n\u001b[0m",
      "\u001b[0;31mTypeError\u001b[0m: can only concatenate str (not \"int\") to str"
     ]
    }
   ],
   "source": [
    "# Tuples\n",
    "tuple_variable = ('Prabhu', 'Subramanian', 27)\n",
    "print(tuple_variable)\n",
    "print(type(tuple_variable))\n",
    "\n",
    "# using tuples we print the relavant data stored in them by accessing the elements\n",
    "print('First Name: ' + tuple_variable[0])\n",
    "print('Second Name: ' + tuple_variable[1])\n",
    "print('Age: ' + tuple_variable[2])"
   ]
  },
  {
   "cell_type": "markdown",
   "metadata": {},
   "source": [
    "### Sets"
   ]
  },
  {
   "cell_type": "code",
   "execution_count": 8,
   "metadata": {},
   "outputs": [
    {
     "name": "stdout",
     "output_type": "stream",
     "text": [
      "first print: {1, 2, 3, 4, 5}\n",
      "second print: {1, 2, 3, 4, 5}\n"
     ]
    }
   ],
   "source": [
    "# Sets\n",
    "set_variable = set()\n",
    "set_variable.add(1)\n",
    "set_variable.add(2)\n",
    "set_variable.add(3)\n",
    "set_variable.add(4)\n",
    "set_variable.add(5)\n",
    "print('first print: ' + str(set_variable))\n",
    "\n",
    "# adding a value again to the set\n",
    "set_variable.add(5)\n",
    "print('second print: ' + str(set_variable))"
   ]
  },
  {
   "cell_type": "code",
   "execution_count": 9,
   "metadata": {},
   "outputs": [
    {
     "name": "stdout",
     "output_type": "stream",
     "text": [
      "[3, 6]\n"
     ]
    }
   ],
   "source": [
    "# Lets try working on some problem\n",
    "\n",
    "''' Subtract an element from two lists\n",
    "    and find the uncommon elements between the both\n",
    "'''\n",
    "list_1 = [1,3,5,6]\n",
    "list_2 = [1,5,7,8]\n",
    "uncommon_elements = list(set(list_1) - set(list_2)) # list(set(list_2) - set(list_1))\n",
    "print(uncommon_elements)"
   ]
  },
  {
   "cell_type": "code",
   "execution_count": 17,
   "metadata": {},
   "outputs": [
    {
     "name": "stdout",
     "output_type": "stream",
     "text": [
      "[1, 3, 3, 6]\n"
     ]
    }
   ],
   "source": [
    "# copying a list\n",
    "\n",
    "list_3 = list_1[:]\n",
    "print(list_3)"
   ]
  },
  {
   "cell_type": "code",
   "execution_count": 18,
   "metadata": {},
   "outputs": [
    {
     "name": "stdout",
     "output_type": "stream",
     "text": [
      "[1, 3, 3, 6]\n",
      "[1, 3, 5, 6]\n"
     ]
    }
   ],
   "source": [
    "list_3[2] = 5\n",
    "print(list_1)\n",
    "print(list_3)"
   ]
  },
  {
   "cell_type": "code",
   "execution_count": 21,
   "metadata": {},
   "outputs": [
    {
     "name": "stdout",
     "output_type": "stream",
     "text": [
      "True\n",
      "True\n",
      "False\n",
      "True\n",
      "**********\n",
      "True\n"
     ]
    }
   ],
   "source": [
    "# Difference between `is` and `==`\n",
    "print(True == 1)\n",
    "print([] == [])\n",
    "print(1 == '1')\n",
    "print(10 == 10.0)\n",
    "print('**********')\n",
    "a = [1,2,3]\n",
    "b = a\n",
    "print(a is b)"
   ]
  },
  {
   "cell_type": "markdown",
   "metadata": {},
   "source": [
    "## For loops"
   ]
  },
  {
   "cell_type": "code",
   "execution_count": 22,
   "metadata": {},
   "outputs": [
    {
     "name": "stdout",
     "output_type": "stream",
     "text": [
      "1\n",
      "3\n",
      "3\n",
      "6\n"
     ]
    }
   ],
   "source": [
    "# For loops description\n",
    "for items in list_1:\n",
    "    print(items)"
   ]
  },
  {
   "cell_type": "code",
   "execution_count": 24,
   "metadata": {},
   "outputs": [
    {
     "name": "stdout",
     "output_type": "stream",
     "text": [
      "[1, 3, 5]\n"
     ]
    }
   ],
   "source": [
    "# one line for loop, which returns a value for your use\n",
    "x = [1, 2, 3, 4, 5]\n",
    "y = [a for a in x if a % 2 == 1]\n",
    "print(y)"
   ]
  },
  {
   "cell_type": "code",
   "execution_count": 27,
   "metadata": {
    "scrolled": true
   },
   "outputs": [
    {
     "name": "stdout",
     "output_type": "stream",
     "text": [
      "one 1\n",
      "two 2\n",
      "three 3\n"
     ]
    }
   ],
   "source": [
    "# iterate through dictionaries\n",
    "dictionary = {\n",
    "    'one': 1,\n",
    "    'two': 2,\n",
    "    'three': 3\n",
    "}\n",
    "for key,value in dictionary.items():\n",
    "    print(key, value)"
   ]
  },
  {
   "cell_type": "markdown",
   "metadata": {},
   "source": [
    "## Functions"
   ]
  },
  {
   "cell_type": "code",
   "execution_count": 34,
   "metadata": {},
   "outputs": [
    {
     "name": "stdout",
     "output_type": "stream",
     "text": [
      "Hello Prabhu 27\n",
      "Hello Prabhu 😊\n"
     ]
    }
   ],
   "source": [
    "# defining a function\n",
    "def say_hello(name, age):\n",
    "    print(f'Hello {name} {age}')\n",
    "    \n",
    "# calling the function\n",
    "say_hello('Prabhu', 27) \n",
    "say_hello('Prabhu', '😊')"
   ]
  },
  {
   "cell_type": "code",
   "execution_count": 37,
   "metadata": {},
   "outputs": [
    {
     "data": {
      "text/plain": [
       "False"
      ]
     },
     "execution_count": 37,
     "metadata": {},
     "output_type": "execute_result"
    }
   ],
   "source": [
    "# clean the code:\n",
    "def is_even(num):\n",
    "    if num % 2 == 0:\n",
    "        return True\n",
    "    elif num % 2 != 0:\n",
    "        return False\n",
    "\n",
    "# calling the method to check\n",
    "is_even(51)"
   ]
  },
  {
   "cell_type": "code",
   "execution_count": null,
   "metadata": {},
   "outputs": [],
   "source": []
  }
 ],
 "metadata": {
  "kernelspec": {
   "display_name": "Python 3",
   "language": "python",
   "name": "python3"
  },
  "language_info": {
   "codemirror_mode": {
    "name": "ipython",
    "version": 3
   },
   "file_extension": ".py",
   "mimetype": "text/x-python",
   "name": "python",
   "nbconvert_exporter": "python",
   "pygments_lexer": "ipython3",
   "version": "3.8.3"
  },
  "latex_envs": {
   "LaTeX_envs_menu_present": true,
   "autoclose": false,
   "autocomplete": true,
   "bibliofile": "biblio.bib",
   "cite_by": "apalike",
   "current_citInitial": 1,
   "eqLabelWithNumbers": true,
   "eqNumInitial": 1,
   "hotkeys": {
    "equation": "Ctrl-E",
    "itemize": "Ctrl-I"
   },
   "labels_anchors": false,
   "latex_user_defs": false,
   "report_style_numbering": false,
   "user_envs_cfg": false
  },
  "toc": {
   "base_numbering": 1,
   "nav_menu": {},
   "number_sections": true,
   "sideBar": true,
   "skip_h1_title": false,
   "title_cell": "Table of Contents",
   "title_sidebar": "Contents",
   "toc_cell": false,
   "toc_position": {
    "height": "calc(100% - 180px)",
    "left": "10px",
    "top": "150px",
    "width": "233px"
   },
   "toc_section_display": true,
   "toc_window_display": true
  },
  "varInspector": {
   "cols": {
    "lenName": 16,
    "lenType": 16,
    "lenVar": 40
   },
   "kernels_config": {
    "python": {
     "delete_cmd_postfix": "",
     "delete_cmd_prefix": "del ",
     "library": "var_list.py",
     "varRefreshCmd": "print(var_dic_list())"
    },
    "r": {
     "delete_cmd_postfix": ") ",
     "delete_cmd_prefix": "rm(",
     "library": "var_list.r",
     "varRefreshCmd": "cat(var_dic_list()) "
    }
   },
   "types_to_exclude": [
    "module",
    "function",
    "builtin_function_or_method",
    "instance",
    "_Feature"
   ],
   "window_display": false
  }
 },
 "nbformat": 4,
 "nbformat_minor": 4
}
